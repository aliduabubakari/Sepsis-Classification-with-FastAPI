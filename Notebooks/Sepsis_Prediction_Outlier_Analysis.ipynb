{
 "cells": [
  {
   "cell_type": "markdown",
   "id": "e76cddbf",
   "metadata": {},
   "source": [
    "# Exploring Patterns and Predictors in Patient Data to Uncover the Secrets of Sepsis Occurance. \n",
    "\n",
    "# Intro\n",
    "\n",
    "## General\n",
    "\n",
    "In the realm of healthcare, understanding the complex dynamics behind the occurrence of life-threatening conditions is of paramount importance. Sepsis, a potentially fatal condition resulting from the body's extreme response to an infection, remains a major challenge for healthcare providers worldwide. Unraveling the secrets of sepsis occurrence can lead to improved early detection, timely interventions, and ultimately, better patient outcomes.\n",
    "\n",
    "This project aims to delve into the vast pool of patient data, harnessing the power of data analysis and machine learning, to explore patterns and predictors associated with sepsis occurrence. By leveraging advanced computational techniques and drawing insights from comprehensive patient records, this research endeavor seeks to uncover hidden correlations, risk factors, and potential early warning signs that can facilitate earlier diagnosis and intervention.\n",
    "\n",
    "\n",
    "## Hypothesis\n",
    "\n",
    "##### - Hypothesis 1: Higher plasma glucose levels (PRG) are associated with an increased risk of developing sepsis.\n",
    "\n",
    "- Null Hypothesis: There is no association between higher plasma glucose levels (PRG) and the risk of developing sepsis.\n",
    "\n",
    "- Alternate Hypothesis: Higher plasma glucose levels (PRG) are associated with an increased risk of developing sepsis.\n",
    "\n",
    "Justification: Elevated glucose levels have been linked to impaired immune function and increased susceptibility to infections, including sepsis.\n",
    "\n",
    "\n",
    "##### -  Hypothesis 2: Abnormal blood work results, such as high values of PL, SK, and BD2, are indicative of a higher likelihood of sepsis.\n",
    "\n",
    "- Null Hypothesis: There is no association between abnormal blood work results, such as high values of PL, SK, and BD2, and the likelihood of sepsis.\n",
    "\n",
    "- Alternate Hypothesis: Abnormal blood work results, such as high values of PL, SK, and BD2, are indicative of a higher likelihood of sepsis.\n",
    "\n",
    "Justification: Abnormal blood work results may indicate an ongoing infection or an inflammatory response, which are key factors in sepsis development.\n",
    "\n",
    "##### -  Hypothesis 3:  Older patients are more likely to develop sepsis compared to younger patients.\n",
    "\n",
    "- Null Hypothesis: There is no difference in the likelihood of developing sepsis between older and younger patients.\n",
    "\n",
    "- Alternate Hypothesis: Older patients are more likely to develop sepsis compared to younger patients.\n",
    "\n",
    "Justification: Advanced age is a known risk factor for sepsis, as the immune system weakens with age and may be less able to mount an effective response to infections.\n",
    "\n",
    "##### -  Hypothesis 4: Patients with higher body mass index (BMI) values (M11) have a lower risk of sepsis.\n",
    "\n",
    "- Null Hypothesis: There is no association between body mass index (BMI) values (M11) and the risk of sepsis.\n",
    "\n",
    "- Alternate Hypothesis: Patients with higher body mass index (BMI) values (M11) have a lower risk of sepsis.\n",
    "\n",
    "Justification: Obesity has been associated with a dampened immune response, potentially leading to a decreased risk of developing sepsis.\n",
    "\n",
    "##### -  Hypothesis 5: Patients without valid insurance cards are more likely to develop sepsis.\n",
    "\n",
    "- Null Hypothesis: There is no association between the absence of valid insurance cards and the likelihood of developing sepsis.\n",
    "\n",
    "- Alternate Hypothesis: Patients without valid insurance cards are more likely to develop sepsis.\n",
    "\n",
    "Justification: Lack of access to healthcare, as indicated by the absence of valid insurance, may delay or hinder early detection and treatment of infections, potentially increasing the risk of sepsis."
   ]
  },
  {
   "cell_type": "markdown",
   "id": "3e942fae",
   "metadata": {},
   "source": [
    "# Setup"
   ]
  },
  {
   "cell_type": "markdown",
   "id": "c0ce0c43",
   "metadata": {},
   "source": [
    "## Importation\n",
    "\n",
    "Here is the section to import all the packages/libraries that will be used through this notebook."
   ]
  },
  {
   "cell_type": "code",
   "execution_count": 1,
   "id": "0c50e6c1",
   "metadata": {},
   "outputs": [],
   "source": [
    "#importing packages\n",
    "import pandas as pd\n",
    "import numpy as np\n",
    "import seaborn as sns\n",
    "from matplotlib import pyplot as plt\n",
    "import os\n",
    "\n",
    "from sklearn.impute import SimpleImputer\n",
    "from sklearn.preprocessing import LabelEncoder,StandardScaler\n",
    "from imblearn.over_sampling import SMOTE\n",
    "import scipy.stats as stats\n",
    "from scipy.stats import skew\n",
    "\n",
    "#Data Splitting\n",
    "from sklearn.model_selection import train_test_split, GridSearchCV\n",
    "#Models\n",
    "from sklearn.linear_model import LogisticRegression\n",
    "from sklearn.ensemble import RandomForestClassifier\n",
    "from sklearn.tree import DecisionTreeClassifier\n",
    "from xgboost import XGBClassifier\n",
    "from sklearn.naive_bayes import GaussianNB\n",
    "\n",
    "\n",
    "#Evaluation metrics\n",
    "from sklearn.metrics import f1_score,roc_curve, auc,roc_auc_score\n",
    "#saving model                            \n",
    "import pickle\n",
    "\n",
    "import warnings\n",
    "warnings.filterwarnings('ignore')"
   ]
  },
  {
   "cell_type": "markdown",
   "id": "a3675b4e",
   "metadata": {},
   "source": [
    "# Data Loading\n",
    "\n",
    "Here is the section to load the datasets (train, eval, test) and the additional files"
   ]
  },
  {
   "cell_type": "code",
   "execution_count": 2,
   "id": "eab5a43d",
   "metadata": {},
   "outputs": [
    {
     "name": "stdout",
     "output_type": "stream",
     "text": [
      "          ID  PRG   PL  PR  SK   TS   M11    BD2  Age  Insurance   Sepssis\n",
      "0  ICU200010    6  148  72  35    0  33.6  0.627   50          0  Positive\n",
      "1  ICU200011    1   85  66  29    0  26.6  0.351   31          0  Negative\n",
      "2  ICU200012    8  183  64   0    0  23.3  0.672   32          1  Positive\n",
      "3  ICU200013    1   89  66  23   94  28.1  0.167   21          1  Negative\n",
      "4  ICU200014    0  137  40  35  168  43.1  2.288   33          1  Positive\n"
     ]
    }
   ],
   "source": [
    "urls = {\n",
    "    \"train\": \"https://raw.githubusercontent.com/aliduabubakari/Sepsis-Classification-with-FastAPI/main/Data/Paitients_Files_Train.csv\",\n",
    "    \"test\": \"https://raw.githubusercontent.com/aliduabubakari/Sepsis-Classification-with-FastAPI/main/Data/Paitients_Files_Test.csv\"\n",
    "}\n",
    "\n",
    "train = pd.read_csv(urls[\"train\"])\n",
    "test = pd.read_csv(urls[\"test\"])\n",
    "\n",
    "# Print the first few rows of the DataFrame\n",
    "print(train.head())\n"
   ]
  },
  {
   "cell_type": "markdown",
   "id": "a4b987b1",
   "metadata": {},
   "source": [
    "- ID: Unique number to represent patient ID\n",
    "\n",
    "- PRG: Plasma glucose\n",
    "\n",
    "- PL: Blood Work Result-1 (mu U/ml)\n",
    "\n",
    "- PR: Blood Pressure (mm Hg)\n",
    "\n",
    "- SK: Blood Work Result-2 (mm)\n",
    "\n",
    "- TS: Blood Work Result-3 (mu U/ml)\n",
    "\n",
    "- M11: Body mass index (weight in kg/(height in m)^2\n",
    "\n",
    "- BD2: Blood Work Result-4 (mu U/ml)\n",
    "\n",
    "- Age\t: patients age (years)\n",
    "\n",
    "- Insurance: If a patient holds a valid insurance card\n",
    "\n",
    "- Sepssis; Positive: if a patient in ICU will develop a sepsis , and Negative: otherwise"
   ]
  },
  {
   "cell_type": "code",
   "execution_count": 3,
   "id": "2c99f054",
   "metadata": {},
   "outputs": [
    {
     "name": "stdout",
     "output_type": "stream",
     "text": [
      "          ID  PRG   PL  PR  SK   TS   M11    BD2  Age  Insurance\n",
      "0  ICU200609    1  109  38  18  120  23.1  0.407   26          1\n",
      "1  ICU200610    1  108  88  19    0  27.1  0.400   24          1\n",
      "2  ICU200611    6   96   0   0    0  23.7  0.190   28          1\n",
      "3  ICU200612    1  124  74  36    0  27.8  0.100   30          1\n",
      "4  ICU200613    7  150  78  29  126  35.2  0.692   54          0\n"
     ]
    }
   ],
   "source": [
    "\n",
    "# Print the first few rows of the DataFrame\n",
    "print(test.head())"
   ]
  },
  {
   "cell_type": "markdown",
   "id": "a90cb2ee",
   "metadata": {},
   "source": [
    "# Feature Processing & Engineering\n",
    "Here is the section to **clean**, **process** the dataset and **create new features**."
   ]
  },
  {
   "cell_type": "markdown",
   "id": "db1cc873",
   "metadata": {},
   "source": [
    "### Data Imbalance Check"
   ]
  },
  {
   "cell_type": "code",
   "execution_count": 28,
   "id": "ec74baeb",
   "metadata": {
    "scrolled": true
   },
   "outputs": [
    {
     "data": {
      "image/png": "[encoded data removed]",
      "text/plain": [
       "<Figure size 2000x700 with 2 Axes>"
      ]
     },
     "metadata": {},
     "output_type": "display_data"
    }
   ],
   "source": [
    "import matplotlib.pyplot as plt\n",
    "import seaborn as sns\n",
    "\n",
    "# Define colors for the plots\n",
    "palette = ['#008080', '#FF6347', '#E50000', '#D2691E']\n",
    "\n",
    "# Calculate the percentage of positive and negative values\n",
    "sepsis_counts = df['Sepssis'].value_counts()\n",
    "pie_values = [sepsis_counts[0] / sepsis_counts.sum() * 100, sepsis_counts[1] / sepsis_counts.sum() * 100]\n",
    "\n",
    "# Create the figure and axes for subplots\n",
    "fig, axes = plt.subplots(nrows=1, ncols=2, figsize=(20, 7))\n",
    "\n",
    "# Plot the pie chart on the first subplot\n",
    "axes[0].pie(pie_values, labels=['Negative', 'Positive'], autopct='%1.2f%%', explode=(0.1, 0),\n",
    "            colors=palette[:2], wedgeprops={'edgecolor': 'black', 'linewidth': 1, 'antialiased': True})\n",
    "axes[0].set_title('Sepsis Negative and Positive %')\n",
    "\n",
    "# Plot the countplot on the second subplot\n",
    "sns.countplot(data=df, x='Sepssis', palette=palette[:2], edgecolor='black', ax=axes[1])\n",
    "axes[1].set_xticklabels(['Positive', 'Negative'])\n",
    "axes[1].set_title('Sepsis and Negative')\n",
    "\n",
    "# Add labels to the countplot bars\n",
    "for container in axes[1].containers:\n",
    "    axes[1].bar_label(container)\n",
    "\n",
    "# Adjust spacing between subplots\n",
    "plt.tight_layout()\n",
    "\n",
    "# Display the plot\n",
    "plt.show()\n"
   ]
  },
  {
   "cell_type": "markdown",
   "id": "7ef22f57",
   "metadata": {},
   "source": [
    "As can be observed the dataset is imbalanced and therefore particular attention needs to be paid in the selection of ML models"
   ]
  },
  {
   "cell_type": "markdown",
   "id": "a2a3b325",
   "metadata": {},
   "source": [
    "#### Dealing with outliers "
   ]
  },
  {
   "cell_type": "code",
   "execution_count": 29,
   "id": "f88cd915",
   "metadata": {},
   "outputs": [],
   "source": [
    "def cap_floor_outliers(data):\n",
    "    \"\"\"\n",
    "    Apply data capping and flooring to outliers in the given data, considering skewness.\n",
    "\n",
    "    Args:\n",
    "        data (array-like or DataFrame): Input data array or DataFrame.\n",
    "\n",
    "    Returns:\n",
    "        array-like or DataFrame: Data with outliers capped and floored.\n",
    "    \"\"\"\n",
    "    capped_data = data.copy()\n",
    "\n",
    "    if isinstance(data, pd.DataFrame):\n",
    "        numerical_cols = data.select_dtypes(include=np.number).columns\n",
    "        for col in numerical_cols:\n",
    "            col_data = data[col]\n",
    "            skewness = skew(col_data)\n",
    "            q1 = np.percentile(col_data, 25)\n",
    "            q3 = np.percentile(col_data, 75)\n",
    "            iqr = q3 - q1\n",
    "            upper_threshold = q3 + 1.5 * iqr \n",
    "            lower_threshold = q1 - 1.5 * iqr\n",
    "\n",
    "            # Cap outliers above the upper threshold\n",
    "            capped_data.loc[data[col] > upper_threshold, col] = upper_threshold\n",
    "\n",
    "            # Floor outliers below the lower threshold\n",
    "            capped_data.loc[data[col] < lower_threshold, col] = lower_threshold\n",
    "\n",
    "    return capped_data\n",
    "\n"
   ]
  },
  {
   "cell_type": "code",
   "execution_count": 30,
   "id": "7d807f3e",
   "metadata": {},
   "outputs": [],
   "source": [
    "def iqr_trimming(train, cols, factor):\n",
    "    drop_outliers = np.array([])\n",
    "\n",
    "    for col in cols:\n",
    "        q1 = train[col].quantile(0.25)\n",
    "        q3 = train[col].quantile(0.75)\n",
    "        iqr = q3 - q1\n",
    "\n",
    "        upper_whisker = q3 + (factor * iqr)\n",
    "        lower_whisker = q1 - (factor * iqr)\n",
    "\n",
    "        indexes = train[(train[col] > upper_whisker) | (train[col] < lower_whisker)].index\n",
    "        drop_outliers = np.append(drop_outliers, indexes)\n",
    "\n",
    "    trimmed_train = train.drop(np.unique(drop_outliers))\n",
    "    trimmed_train = trimmed_train.dropna(subset=['Sepssis'])  # Drop rows with missing values in the target column\n",
    "\n",
    "    return trimmed_train\n"
   ]
  },
  {
   "cell_type": "code",
   "execution_count": 31,
   "id": "e3cec02c",
   "metadata": {},
   "outputs": [
    {
     "name": "stdout",
     "output_type": "stream",
     "text": [
      "Original data: (599, 11)\n",
      "Test data: (169, 10)\n",
      "Capped data: (599, 11)\n",
      "Trimmed data: (493, 11)\n"
     ]
    }
   ],
   "source": [
    "# Apply data capping\n",
    "capped_data = cap_floor_outliers(train)\n",
    "\n",
    "numerical_features = [ 'PRG', 'PL', 'PR', 'SK', 'TS', 'M11', 'BD2', 'Age']\n",
    "df_trimmed = iqr_trimming(train, numerical_features, 1.5)\n",
    "\n",
    "# Print the original data and capped data\n",
    "print(\"Original data:\", train.shape)\n",
    "print(\"Test data:\", test.shape)\n",
    "print(\"Capped data:\", capped_data.shape)\n",
    "print(\"Trimmed data:\", df_trimmed.shape)\n"
   ]
  },
  {
   "cell_type": "markdown",
   "id": "0ddfe7d5",
   "metadata": {},
   "source": [
    "## Drop Duplicates"
   ]
  },
  {
   "cell_type": "code",
   "execution_count": 32,
   "id": "f4ec02be",
   "metadata": {},
   "outputs": [],
   "source": [
    "def check_duplicate_rows(data):\n",
    "    duplicate_rows = data.duplicated()\n",
    "    num_duplicates = duplicate_rows.sum()\n",
    "    print(\"Number of duplicate rows:\", num_duplicates)"
   ]
  },
  {
   "cell_type": "code",
   "execution_count": 33,
   "id": "31694a41",
   "metadata": {},
   "outputs": [
    {
     "name": "stdout",
     "output_type": "stream",
     "text": [
      "Number of duplicate rows: 0\n",
      "Number of duplicate rows: 0\n"
     ]
    }
   ],
   "source": [
    "# Check duplicate rows in train data\n",
    "check_duplicate_rows(train)\n",
    "\n",
    "# Check duplicate rows in test data\n",
    "check_duplicate_rows(test)\n"
   ]
  },
  {
   "cell_type": "markdown",
   "id": "691a6365",
   "metadata": {},
   "source": [
    "## Impute Missing Values"
   ]
  },
  {
   "cell_type": "code",
   "execution_count": 34,
   "id": "cc3c52d5",
   "metadata": {},
   "outputs": [],
   "source": [
    "def check_missing_values(data):\n",
    "    missing_values = data.isna().sum()\n",
    "    print(\"Missing values:\\n\", missing_values)"
   ]
  },
  {
   "cell_type": "code",
   "execution_count": 35,
   "id": "0c7928b9",
   "metadata": {},
   "outputs": [
    {
     "name": "stdout",
     "output_type": "stream",
     "text": [
      "Missing values:\n",
      " ID           0\n",
      "PRG          0\n",
      "PL           0\n",
      "PR           0\n",
      "SK           0\n",
      "TS           0\n",
      "M11          0\n",
      "BD2          0\n",
      "Age          0\n",
      "Insurance    0\n",
      "Sepssis      0\n",
      "dtype: int64\n",
      "Missing values:\n",
      " ID           0\n",
      "PRG          0\n",
      "PL           0\n",
      "PR           0\n",
      "SK           0\n",
      "TS           0\n",
      "M11          0\n",
      "BD2          0\n",
      "Age          0\n",
      "Insurance    0\n",
      "dtype: int64\n"
     ]
    }
   ],
   "source": [
    "# Check missing values in train data\n",
    "check_missing_values(train)\n",
    "\n",
    "# Check missing values in test data\n",
    "check_missing_values(test)\n"
   ]
  },
  {
   "cell_type": "markdown",
   "id": "0994a53b",
   "metadata": {},
   "source": [
    "## Features Encoding"
   ]
  },
  {
   "cell_type": "code",
   "execution_count": 36,
   "id": "f30c85db",
   "metadata": {},
   "outputs": [],
   "source": [
    "from sklearn.preprocessing import LabelEncoder\n",
    "\n",
    "def encode_target_variable(data, target_variable):\n",
    "    # Encode the target variable using LabelEncoder\n",
    "    label_encoder = LabelEncoder()\n",
    "    encoded_target = label_encoder.fit_transform(data[target_variable])\n",
    "    target_encoded = pd.DataFrame(encoded_target, columns=[target_variable])\n",
    "\n",
    "    # Combine the features and the encoded target variable\n",
    "    data_encoded = pd.concat([data.iloc[:, :-1], target_encoded], axis=1)\n",
    "    data_encoded.drop('ID', axis=1, inplace=True)\n",
    "\n",
    "    return data_encoded\n",
    "\n"
   ]
  },
  {
   "cell_type": "code",
   "execution_count": 37,
   "id": "7a9faf0a",
   "metadata": {},
   "outputs": [
    {
     "name": "stdout",
     "output_type": "stream",
     "text": [
      "   PRG   PL  PR  SK   TS   M11    BD2  Age  Insurance  Sepssis\n",
      "0    6  148  72  35    0  33.6  0.627   50          0        1\n",
      "1    1   85  66  29    0  26.6  0.351   31          0        0\n",
      "2    8  183  64   0    0  23.3  0.672   32          1        1\n",
      "3    1   89  66  23   94  28.1  0.167   21          1        0\n",
      "4    0  137  40  35  168  43.1  2.288   33          1        1\n"
     ]
    }
   ],
   "source": [
    "# Encode target variable in train data\n",
    "train_encoded = encode_target_variable(train, 'Sepssis')\n",
    "\n",
    "# Print the encoded train data\n",
    "print(train_encoded.head())"
   ]
  },
  {
   "cell_type": "code",
   "execution_count": 38,
   "id": "9b76afff",
   "metadata": {},
   "outputs": [
    {
     "name": "stdout",
     "output_type": "stream",
     "text": [
      "   PRG     PL  PR  SK     TS   M11     BD2  Age  Insurance  Sepssis\n",
      "0  6.0  148.0  72  35    0.0  33.6  0.6270   50        0.0        1\n",
      "1  1.0   85.0  66  29    0.0  26.6  0.3510   31        0.0        0\n",
      "2  8.0  183.0  64   0    0.0  23.3  0.6720   32        1.0        1\n",
      "3  1.0   89.0  66  23   94.0  28.1  0.1670   21        1.0        0\n",
      "4  0.0  137.0  40  35  168.0  43.1  1.2455   33        1.0        1\n"
     ]
    }
   ],
   "source": [
    "# Encode target variable in train data\n",
    "capped_data_encoded = encode_target_variable(capped_data, 'Sepssis')\n",
    "\n",
    "# Print the encoded train data\n",
    "print(capped_data_encoded.head())\n"
   ]
  },
  {
   "cell_type": "code",
   "execution_count": 39,
   "id": "4dbf550e",
   "metadata": {},
   "outputs": [
    {
     "name": "stdout",
     "output_type": "stream",
     "text": [
      "   PRG     PL    PR    SK    TS   M11    BD2   Age  Insurance  Sepssis\n",
      "0  6.0  148.0  72.0  35.0   0.0  33.6  0.627  50.0        0.0      1.0\n",
      "1  1.0   85.0  66.0  29.0   0.0  26.6  0.351  31.0        0.0      0.0\n",
      "2  8.0  183.0  64.0   0.0   0.0  23.3  0.672  32.0        1.0      1.0\n",
      "3  1.0   89.0  66.0  23.0  94.0  28.1  0.167  21.0        1.0      0.0\n",
      "5  5.0  116.0  74.0   0.0   0.0  25.6  0.201  30.0        1.0      1.0\n"
     ]
    }
   ],
   "source": [
    "# Encode target variable in train data\n",
    "df_trimmed_encoded = encode_target_variable(df_trimmed, 'Sepssis')\n",
    "\n",
    "# Print the encoded train data\n",
    "print(df_trimmed_encoded.head())"
   ]
  },
  {
   "cell_type": "markdown",
   "id": "f755a567",
   "metadata": {},
   "source": [
    "## Dataset Splitting"
   ]
  },
  {
   "cell_type": "code",
   "execution_count": 40,
   "id": "c8a87dc4",
   "metadata": {},
   "outputs": [],
   "source": [
    "from sklearn.model_selection import train_test_split\n",
    "\n",
    "def split_data(X, y, test_size, random_state=42, stratify=None):\n",
    "    # Split the data into train and validation sets\n",
    "    X_train, X_eval, y_train, y_eval = train_test_split(X, y, test_size=test_size, random_state=random_state, stratify=stratify)\n",
    "\n",
    "    return X_train, X_eval, y_train, y_eval\n"
   ]
  },
  {
   "cell_type": "code",
   "execution_count": 41,
   "id": "6749160a",
   "metadata": {},
   "outputs": [
    {
     "name": "stdout",
     "output_type": "stream",
     "text": [
      "X_train shape: (479, 9)\n",
      "y_train shape: (479, 1)\n",
      "X_eval shape: (120, 9)\n",
      "y_eval shape: (120, 1)\n"
     ]
    }
   ],
   "source": [
    "# Split the data into train and validation sets for both X and y\n",
    "X_train, X_eval, y_train, y_eval = split_data(train_encoded.iloc[:, :-1], train_encoded.iloc[:, -1:], test_size=0.2, random_state=42, stratify=train_encoded.iloc[:, -1:])\n",
    "\n",
    "# Print the shapes of the train and validation sets\n",
    "print(\"X_train shape:\", X_train.shape)\n",
    "print(\"y_train shape:\", y_train.shape)\n",
    "print(\"X_eval shape:\", X_eval.shape)\n",
    "print(\"y_eval shape:\", y_eval.shape)"
   ]
  },
  {
   "cell_type": "code",
   "execution_count": 55,
   "id": "ebb72fa6",
   "metadata": {},
   "outputs": [
    {
     "name": "stdout",
     "output_type": "stream",
     "text": [
      "X_train shape (for trimmed data): (323, 9)\n",
      "y_train shape (for trimmed data): (323, 1)\n",
      "X_eval shape (for trimmed data): (81, 9)\n",
      "y_eval shape (for trimmed data): (81, 1)\n"
     ]
    }
   ],
   "source": [
    "# Remove rows with missing values in the target variable (y)\n",
    "df_trimmed_encoded.dropna(inplace=True)\n",
    "\n",
    "# Split the data into train and validation sets for both X and y\n",
    "X_train_trimmed, X_eval_trimmed, y_train_trimmed, y_eval_trimmed = split_data(df_trimmed_encoded.iloc[:, :-1], df_trimmed_encoded.iloc[:, -1:], test_size=0.2, random_state=42, stratify=df_trimmed_encoded.iloc[:, -1:])\n",
    "\n",
    "# Print the shapes of the train and validation sets\n",
    "print(\"X_train shape (for trimmed data):\", X_train_trimmed.shape)\n",
    "print(\"y_train shape (for trimmed data):\", y_train_trimmed.shape)\n",
    "print(\"X_eval shape (for trimmed data):\", X_eval_trimmed.shape)\n",
    "print(\"y_eval shape (for trimmed data):\", y_eval_trimmed.shape)\n"
   ]
  },
  {
   "cell_type": "code",
   "execution_count": 56,
   "id": "89794fd4",
   "metadata": {},
   "outputs": [
    {
     "name": "stdout",
     "output_type": "stream",
     "text": [
      "X_train shape(for capped data): (479, 9)\n",
      "y_train shape (for capped data): (479, 1)\n",
      "X_eval shape (for capped data): (120, 9)\n",
      "y_eval shape (for capped data): (120, 1)\n"
     ]
    }
   ],
   "source": [
    "# Split the data into train and validation sets for both X and y\n",
    "X_train_capped, X_eval_capped, y_train_capped, y_eval_capped = split_data(capped_data_encoded.iloc[:, :-1], capped_data_encoded.iloc[:, -1:], test_size=0.2, random_state=42, stratify=capped_data_encoded.iloc[:, -1:])\n",
    "\n",
    "# Print the shapes of the train and validation sets\n",
    "print(\"X_train shape(for capped data):\", X_train_capped.shape)\n",
    "print(\"y_train shape (for capped data):\", y_train_capped.shape)\n",
    "print(\"X_eval shape (for capped data):\", X_eval_capped.shape)\n",
    "print(\"y_eval shape (for capped data):\", y_eval_capped.shape)\n"
   ]
  },
  {
   "cell_type": "markdown",
   "id": "80adb7e1",
   "metadata": {},
   "source": [
    "## Imputting Missing Values"
   ]
  },
  {
   "cell_type": "code",
   "execution_count": 57,
   "id": "c23345d0",
   "metadata": {},
   "outputs": [],
   "source": [
    "# Creating imputer variables\n",
    "numerical_imputer = SimpleImputer(strategy = \"mean\")\n",
    "\n",
    "numerical_imputer.fit(X_train)\n",
    "\n",
    "X_train_imputed = numerical_imputer.transform(X_train)\n",
    "X_eval_imputed = numerical_imputer.transform(X_eval)"
   ]
  },
  {
   "cell_type": "code",
   "execution_count": 58,
   "id": "4e11010a",
   "metadata": {},
   "outputs": [],
   "source": [
    "X_train_imputed_trimmed = numerical_imputer.transform(X_train_trimmed)\n",
    "X_eval_imputed_trimmed = numerical_imputer.transform(X_eval_trimmed)\n"
   ]
  },
  {
   "cell_type": "code",
   "execution_count": 59,
   "id": "e8d983c7",
   "metadata": {},
   "outputs": [],
   "source": [
    "X_train_imputed_capped = numerical_imputer.transform(X_train_capped)\n",
    "X_eval_imputed_capped = numerical_imputer.transform(X_eval_capped)\n"
   ]
  },
  {
   "cell_type": "markdown",
   "id": "36497da9",
   "metadata": {},
   "source": [
    "## Features Scaling"
   ]
  },
  {
   "cell_type": "code",
   "execution_count": 60,
   "id": "35dd803a",
   "metadata": {},
   "outputs": [],
   "source": [
    "scaler = StandardScaler()\n",
    "scaler.fit(X_train_imputed)\n",
    "\n",
    "columns = ['PRG','PL','PR','SK','TS','M11','BD2','Age','Insurance']\n",
    "\n",
    "def scale_data(data, scaler, columns):\n",
    "    scaled_data = scaler.transform(data)\n",
    "    scaled_df = pd.DataFrame(scaled_data, columns=columns)\n",
    "    return scaled_df\n"
   ]
  },
  {
   "cell_type": "code",
   "execution_count": 61,
   "id": "0a3e8122",
   "metadata": {},
   "outputs": [],
   "source": [
    "# Scale the data\n",
    "X_train_df = scale_data(X_train_imputed, scaler, columns)\n",
    "X_eval_df = scale_data(X_eval_imputed, scaler, columns)\n"
   ]
  },
  {
   "cell_type": "code",
   "execution_count": 62,
   "id": "96fcb3b3",
   "metadata": {},
   "outputs": [],
   "source": [
    "# Scale the data\n",
    "X_train_df_trimmed = scale_data(X_train_trimmed, scaler, columns)\n",
    "X_eval_df_trimmed = scale_data(X_eval_trimmed, scaler, columns)\n"
   ]
  },
  {
   "cell_type": "code",
   "execution_count": 63,
   "id": "087ff630",
   "metadata": {},
   "outputs": [],
   "source": [
    "# Scale the data\n",
    "X_train_df_capped = scale_data(X_train_capped, scaler, columns)\n",
    "X_eval_df_capped = scale_data(X_eval_capped, scaler, columns)"
   ]
  },
  {
   "cell_type": "markdown",
   "id": "9ef38b26",
   "metadata": {},
   "source": [
    "# Machine Learning Modeling \n",
    "Here is the section to **build**, **train**, **evaluate** and **compare** the models to each others."
   ]
  },
  {
   "cell_type": "markdown",
   "id": "f9dd02cb",
   "metadata": {},
   "source": [
    "### Simple Model #001 - Linear regression\n",
    "\n",
    "Please, keep the following structure to try all the model you want."
   ]
  },
  {
   "cell_type": "code",
   "execution_count": 64,
   "id": "66b63819",
   "metadata": {},
   "outputs": [],
   "source": [
    "from sklearn.linear_model import LogisticRegression\n",
    "from sklearn.metrics import f1_score, roc_curve, roc_auc_score\n",
    "\n",
    "def logistic_regression_model(X_train, y_train, X_eval, y_eval):\n",
    "    # Fit logistic regression model\n",
    "    lr_model = LogisticRegression()\n",
    "    lr_model.fit(X_train, y_train)\n",
    "\n",
    "    # Make predictions on the evaluation set\n",
    "    lr_preds = lr_model.predict(X_eval)\n",
    "\n",
    "    # Calculate F1 score\n",
    "    lr_f1_score = f1_score(y_eval, lr_preds)\n",
    "\n",
    "    # Calculate false positive rate, true positive rate, and thresholds using roc_curve\n",
    "    fpr, tpr, thresholds = roc_curve(y_eval, lr_preds)\n",
    "\n",
    "    # Calculate AUC score\n",
    "    lr_auc_score = roc_auc_score(y_eval, lr_preds)\n",
    "\n",
    "    return lr_model, lr_preds, lr_f1_score, fpr, tpr, thresholds, lr_auc_score\n"
   ]
  },
  {
   "cell_type": "code",
   "execution_count": 65,
   "id": "94e6f5b9",
   "metadata": {},
   "outputs": [
    {
     "name": "stdout",
     "output_type": "stream",
     "text": [
      "F1 Score: 0.6265060240963854\n",
      "AUC Score: 0.7133699633699634\n"
     ]
    }
   ],
   "source": [
    "# Call the function and get the outputs\n",
    "lr_model, lr_preds, lr_f1_score, fpr, tpr, thresholds, lr_auc_score = logistic_regression_model(X_train_df, y_train, X_eval_df, y_eval)\n",
    "\n",
    "print(\"F1 Score:\", lr_f1_score)\n",
    "print(\"AUC Score:\", lr_auc_score)\n"
   ]
  },
  {
   "cell_type": "code",
   "execution_count": 66,
   "id": "85dc0db4",
   "metadata": {},
   "outputs": [
    {
     "data": {
      "image/png": "[encoded data removed]",
      "text/plain": [
       "<Figure size 640x480 with 1 Axes>"
      ]
     },
     "metadata": {},
     "output_type": "display_data"
    }
   ],
   "source": [
    "# Plot the ROC curve\n",
    "plt.figure()\n",
    "plt.plot(fpr, tpr, label='ROC curve (AUC = %0.2f)' % lr_auc_score)\n",
    "plt.plot([0, 1], [0, 1], 'k--')  # diagonal line\n",
    "plt.xlabel('False Positive Rate')\n",
    "plt.ylabel('True Positive Rate')\n",
    "plt.title('(ROC) Curve for Logistic Regression')\n",
    "plt.legend(loc='lower right')\n",
    "plt.show()"
   ]
  },
  {
   "cell_type": "code",
   "execution_count": 67,
   "id": "232bf4c5",
   "metadata": {},
   "outputs": [
    {
     "name": "stdout",
     "output_type": "stream",
     "text": [
      "F1 Score: 0.0\n",
      "AUC Score: 0.5\n"
     ]
    }
   ],
   "source": [
    "# Call the function and get the outputs\n",
    "lr_model, lr_preds, lr_f1_score, fpr, tpr, thresholds, lr_auc_score = logistic_regression_model(X_train_df_trimmed, y_train_trimmed, X_eval_df_trimmed, y_eval_trimmed)\n",
    "\n",
    "print(\"F1 Score:\", lr_f1_score)\n",
    "print(\"AUC Score:\", lr_auc_score)\n"
   ]
  },
  {
   "cell_type": "code",
   "execution_count": 68,
   "id": "d34dc443",
   "metadata": {},
   "outputs": [
    {
     "name": "stdout",
     "output_type": "stream",
     "text": [
      "F1 Score: 0.6265060240963854\n",
      "AUC Score: 0.7133699633699634\n"
     ]
    }
   ],
   "source": [
    "# Call the function and get the outputs\n",
    "lr_model, lr_preds, lr_f1_score, fpr, tpr, thresholds, lr_auc_score = logistic_regression_model(X_train_df_capped, y_train_capped, X_eval_df_capped, y_eval_capped)\n",
    "\n",
    "print(\"F1 Score:\", lr_f1_score)\n",
    "print(\"AUC Score:\", lr_auc_score)"
   ]
  },
  {
   "cell_type": "markdown",
   "id": "25be8804",
   "metadata": {},
   "source": [
    "##### Checking for overfitting "
   ]
  },
  {
   "cell_type": "code",
   "execution_count": null,
   "id": "6bb9ad6f",
   "metadata": {},
   "outputs": [],
   "source": [
    "def calculate_f1_score(model, X, y):\n",
    "    predictions = model.predict(X)\n",
    "    f1 = f1_score(y, predictions)\n",
    "    return f1"
   ]
  },
  {
   "cell_type": "code",
   "execution_count": null,
   "id": "46e32947",
   "metadata": {},
   "outputs": [],
   "source": [
    "# Calculate F1 scores for training and evaluation sets\n",
    "Lr_train_f1_score = calculate_f1_score(lr_model, X_train_df, y_train)\n",
    "lr_eval_f1_score = calculate_f1_score(lr_model, X_eval_df, y_eval)\n",
    "\n",
    "# Print the F1 scores\n",
    "print(\"F1 Score on Training Set:\", Lr_train_f1_score)\n",
    "print(\"F1 Score on Evaluation Set:\", lr_eval_f1_score)\n"
   ]
  },
  {
   "cell_type": "code",
   "execution_count": null,
   "id": "a86e2b12",
   "metadata": {},
   "outputs": [],
   "source": [
    "from sklearn.model_selection import cross_val_score\n",
    "from sklearn.metrics import f1_score\n",
    "import numpy as np\n",
    "\n",
    "def perform_cross_validation(model, X, y, cv=5, scoring='f1'):\n",
    "    # Perform cross-validation\n",
    "    cv_scores = cross_val_score(model, X, y, cv=cv, scoring=scoring)\n",
    "\n",
    "    # Calculate the average score\n",
    "    avg_score = np.mean(cv_scores)\n",
    "\n",
    "    return cv_scores, avg_score"
   ]
  },
  {
   "cell_type": "code",
   "execution_count": null,
   "id": "0a14075b",
   "metadata": {},
   "outputs": [],
   "source": [
    "# Call the function with your logistic regression model and train data\n",
    "cv_scores, avg_f1_score = perform_cross_validation(lr_model, X_train_df, y_train, cv=5, scoring='f1')\n",
    "# Print the cross-validation scores and average F1 score\n",
    "print(\"Cross-Validation Scores:\", cv_scores)\n",
    "print(\"Average F1 Score:\", avg_f1_score)\n"
   ]
  },
  {
   "cell_type": "markdown",
   "id": "77a9c709",
   "metadata": {},
   "source": [
    "### Simple Model #002 - Decision trees"
   ]
  },
  {
   "cell_type": "code",
   "execution_count": null,
   "id": "4b96d4b3",
   "metadata": {},
   "outputs": [],
   "source": [
    "from sklearn.tree import DecisionTreeClassifier\n",
    "from sklearn.metrics import f1_score, roc_auc_score\n",
    "\n",
    "def evaluate_decision_tree(X_train, y_train, X_eval, y_eval):\n",
    "    # Create and fit the decision tree classifier model\n",
    "    dt_model = DecisionTreeClassifier(random_state=42)\n",
    "    dt_model.fit(X_train, y_train)\n",
    "\n",
    "    # Make predictions on the evaluation set\n",
    "    dt_pred = dt_model.predict(X_eval)\n",
    "\n",
    "    # Calculate the F1 score\n",
    "    dt_f1_score = f1_score(y_eval, dt_pred)\n",
    "\n",
    "    # Calculate the false positive rate, true positive rate, and thresholds using roc_curve\n",
    "    fpr, tpr, thresholds = roc_curve(y_eval, dt_pred)\n",
    "\n",
    "    # Calculate the AUC (Area Under the Curve)\n",
    "    dt_auc_score = roc_auc_score(y_eval, dt_pred)\n",
    "    return dt_model, dt_pred, dt_f1_score, dt_auc_score\n",
    "\n"
   ]
  },
  {
   "cell_type": "code",
   "execution_count": null,
   "id": "70907c38",
   "metadata": {},
   "outputs": [],
   "source": [
    "# Call the function with your train and evaluation data\n",
    "dt_model, dt_pred, dt_f1_score, dt_auc_score = evaluate_decision_tree(X_train_df, y_train, X_eval_df, y_eval)\n",
    "\n",
    "print(\"F1 Score:\", dt_f1_score)\n",
    "print(\"AUC Score:\", dt_auc_score)\n"
   ]
  },
  {
   "cell_type": "code",
   "execution_count": null,
   "id": "9154f7a7",
   "metadata": {},
   "outputs": [],
   "source": [
    "# Plot the ROC curve\n",
    "plt.figure()\n",
    "plt.plot(fpr, tpr, label='ROC curve (AUC = %0.2f)' % dt_auc_score)\n",
    "plt.plot([0, 1], [0, 1], 'k--')  # diagonal line\n",
    "plt.xlabel('False Positive Rate')\n",
    "plt.ylabel('True Positive Rate')\n",
    "plt.title('(ROC) Curve for decision Tree Classifier')\n",
    "plt.legend(loc='lower right')\n",
    "plt.show()"
   ]
  },
  {
   "cell_type": "markdown",
   "id": "a1e3599b",
   "metadata": {},
   "source": [
    "##### Checking for overfitting "
   ]
  },
  {
   "cell_type": "code",
   "execution_count": null,
   "id": "fc667921",
   "metadata": {},
   "outputs": [],
   "source": [
    "# Calculate F1 scores for training and evaluation sets\n",
    "dt_train_f1_score = calculate_f1_score(dt_model, X_train_df, y_train)\n",
    "dt_eval_f1_score = calculate_f1_score(dt_model, X_eval_df, y_eval)\n",
    "\n",
    "# Print the F1 scores\n",
    "print(\"F1 Score on Training Set:\", dt_train_f1_score)\n",
    "print(\"F1 Score on Evaluation Set:\", dt_eval_f1_score)\n"
   ]
  },
  {
   "cell_type": "code",
   "execution_count": null,
   "id": "69a5591d",
   "metadata": {},
   "outputs": [],
   "source": [
    "# Call the function with your logistic regression model and train data\n",
    "cv_scores, avg_f1_score = perform_cross_validation(dt_model, X_train_df, y_train, cv=5, scoring='f1')\n",
    "# Print the cross-validation scores and average F1 score\n",
    "print(\"Cross-Validation Scores:\", cv_scores)\n",
    "print(\"Average F1 Score:\", avg_f1_score)"
   ]
  },
  {
   "cell_type": "markdown",
   "id": "d5705f3e",
   "metadata": {},
   "source": [
    "### Simple Model #003 - Random Forest Classifier"
   ]
  },
  {
   "cell_type": "code",
   "execution_count": null,
   "id": "c0fa24e6",
   "metadata": {},
   "outputs": [],
   "source": [
    "from sklearn.ensemble import RandomForestClassifier\n",
    "from sklearn.metrics import f1_score, roc_curve, roc_auc_score\n",
    "\n",
    "def random_forest_model(X_train, y_train, X_eval, y_eval):\n",
    "    # Fit Random Forest model\n",
    "    rf_model = RandomForestClassifier(random_state=42)\n",
    "    rf_model.fit(X_train, y_train)\n",
    "\n",
    "    # Make predictions on the evaluation set\n",
    "    rf_preds = rf_model.predict(X_eval)\n",
    "\n",
    "    # Calculate F1 score\n",
    "    rf_f1_score = f1_score(y_eval, rf_preds)\n",
    "\n",
    "    # Calculate false positive rate, true positive rate, and thresholds using roc_curve\n",
    "    fpr, tpr, thresholds = roc_curve(y_eval, rf_preds)\n",
    "\n",
    "    # Calculate AUC score\n",
    "    rf_auc_score = roc_auc_score(y_eval, rf_preds)\n",
    "\n",
    "    return rf_model, rf_preds, rf_f1_score, fpr, tpr, thresholds, rf_auc_score\n"
   ]
  },
  {
   "cell_type": "code",
   "execution_count": null,
   "id": "907da842",
   "metadata": {},
   "outputs": [],
   "source": [
    "rf_model, rf_preds, rf_f1_score, fpr, tpr, thresholds, rf_auc_score = random_forest_model(X_train, y_train, X_eval, y_eval)\n",
    "\n",
    "print(\"F1 Score:\", rf_f1_score)\n",
    "print(\"AUC Score:\", rf_auc_score)\n"
   ]
  },
  {
   "cell_type": "code",
   "execution_count": null,
   "id": "3f567b27",
   "metadata": {},
   "outputs": [],
   "source": [
    "# Plot the ROC curve\n",
    "plt.figure()\n",
    "plt.plot(fpr, tpr, label='ROC curve (AUC = %0.2f)' % rf_auc_score)\n",
    "plt.plot([0, 1], [0, 1], 'k--')  # diagonal line\n",
    "plt.xlabel('False Positive Rate')\n",
    "plt.ylabel('True Positive Rate')\n",
    "plt.title('(ROC) Curve for Randon Forest Classifier')\n",
    "plt.legend(loc='lower right')\n",
    "plt.show()"
   ]
  },
  {
   "cell_type": "code",
   "execution_count": null,
   "id": "e7b11303",
   "metadata": {},
   "outputs": [],
   "source": [
    "# Calculate F1 scores for training and evaluation sets\n",
    "rf_train_f1_score = calculate_f1_score(rf_model, X_train_df, y_train)\n",
    "rf_eval_f1_score = calculate_f1_score(rf_model, X_eval_df, y_eval)\n",
    "\n",
    "# Print the F1 scores\n",
    "print(\"F1 Score on Training Set based on Random Forest:\", rf_train_f1_score)\n",
    "print(\"F1 Score on Evaluation Set based on Random Forest:\", rf_eval_f1_score)\n"
   ]
  },
  {
   "cell_type": "code",
   "execution_count": null,
   "id": "6d5acd01",
   "metadata": {},
   "outputs": [],
   "source": [
    "# Call the function with your Random Forest model and train data\n",
    "cv_scores, avg_f1_score = perform_cross_validation(rf_model, X_train_df, y_train, cv=5, scoring='f1')\n",
    "# Print the cross-validation scores and average F1 score\n",
    "print(\"Cross-Validation Scores:\", cv_scores)\n",
    "print(\"Average F1 Score:\", avg_f1_score)"
   ]
  },
  {
   "cell_type": "markdown",
   "id": "b87e3aef",
   "metadata": {},
   "source": [
    "### Simple Model #004 - XGBClassifier"
   ]
  },
  {
   "cell_type": "code",
   "execution_count": null,
   "id": "98914082",
   "metadata": {},
   "outputs": [],
   "source": [
    "from xgboost import XGBClassifier\n",
    "\n",
    "def xgboost_model(X_train, y_train, X_eval, y_eval):\n",
    "    # Fit XGBoost model\n",
    "    xgb_model = XGBClassifier()\n",
    "    xgb_model.fit(X_train, y_train)\n",
    "\n",
    "    # Make predictions on the evaluation set\n",
    "    xgb_preds = xgb_model.predict(X_eval)\n",
    "\n",
    "    # Calculate F1 score\n",
    "    xgb_f1_score = f1_score(y_eval, xgb_preds)\n",
    "\n",
    "    # Calculate false positive rate, true positive rate, and thresholds using roc_curve\n",
    "    fpr, tpr, thresholds = roc_curve(y_eval, xgb_preds)\n",
    "\n",
    "    # Calculate AUC score\n",
    "    xgb_auc_score = roc_auc_score(y_eval, xgb_preds)\n",
    "\n",
    "    return xgb_model, xgb_preds, xgb_f1_score, fpr, tpr, thresholds, xgb_auc_score\n"
   ]
  },
  {
   "cell_type": "code",
   "execution_count": null,
   "id": "bf90d6c6",
   "metadata": {},
   "outputs": [],
   "source": [
    "xgb_model, xgb_preds, xgb_f1_score, fpr, tpr, thresholds, xgb_auc_score = xgboost_model(X_train_df, y_train, X_eval_df, y_eval)\n",
    "\n",
    "# Print the F1 score and AUC score\n",
    "print(\"F1 Score on Evaluation Set based on XGBoost:\", xgb_f1_score)\n",
    "print(\"AUC Score on Evaluation Set based on XGBoost:\", xgb_auc_score)\n"
   ]
  },
  {
   "cell_type": "code",
   "execution_count": null,
   "id": "970ca2fe",
   "metadata": {},
   "outputs": [],
   "source": [
    "# Plot the ROC curve\n",
    "plt.figure()\n",
    "plt.plot(fpr, tpr, label='ROC curve (AUC = %0.2f)' % xgb_auc_score)\n",
    "plt.plot([0, 1], [0, 1], 'k--')  # diagonal line\n",
    "plt.xlabel('False Positive Rate')\n",
    "plt.ylabel('True Positive Rate')\n",
    "plt.title('(ROC) Curve for XGBoost Classifier')\n",
    "plt.legend(loc='lower right')\n",
    "plt.show()"
   ]
  },
  {
   "cell_type": "code",
   "execution_count": null,
   "id": "de333aa7",
   "metadata": {},
   "outputs": [],
   "source": [
    "# Calculate F1 scores for training and evaluation sets\n",
    "xgb_train_f1_score = calculate_f1_score(xgb_model, X_train_df, y_train)\n",
    "xgb_eval_f1_score = calculate_f1_score(xgb_model, X_eval_df, y_eval)\n",
    "\n",
    "# Print the F1 scores\n",
    "print(\"F1 Score on Training Set based on XGboost:\", xgb_train_f1_score)\n",
    "print(\"F1 Score on Evaluation Set based on XGboost:\", xgb_eval_f1_score)\n"
   ]
  },
  {
   "cell_type": "code",
   "execution_count": null,
   "id": "768f187f",
   "metadata": {},
   "outputs": [],
   "source": [
    "# Call the function with your XGboost model and train data\n",
    "cv_scores, avg_f1_score = perform_cross_validation(xgb_model, X_train_df, y_train, cv=5, scoring='f1')\n",
    "# Print the cross-validation scores and average F1 score\n",
    "print(\"Cross-Validation Scores based on XGboost:\", cv_scores)\n",
    "print(\"Average F1 Score based on XGboost:\", avg_f1_score)"
   ]
  },
  {
   "cell_type": "markdown",
   "id": "8a84cc46",
   "metadata": {},
   "source": [
    "### Simple Model #005 - Naive Bayes model"
   ]
  },
  {
   "cell_type": "code",
   "execution_count": null,
   "id": "f1b4304a",
   "metadata": {},
   "outputs": [],
   "source": [
    "from sklearn.naive_bayes import GaussianNB\n",
    "\n",
    "def naive_bayes_model(X_train, y_train, X_eval, y_eval):\n",
    "    # Fit Naive Bayes model\n",
    "    nb_model = GaussianNB()\n",
    "    nb_model.fit(X_train, y_train)\n",
    "\n",
    "    # Make predictions on the evaluation set\n",
    "    nb_preds = nb_model.predict(X_eval)\n",
    "\n",
    "    # Calculate F1 score\n",
    "    nb_f1_score = f1_score(y_eval, nb_preds)\n",
    "\n",
    "    # Calculate false positive rate, true positive rate, and thresholds using roc_curve\n",
    "    fpr, tpr, thresholds = roc_curve(y_eval, nb_preds)\n",
    "\n",
    "    # Calculate AUC score\n",
    "    nb_auc_score = roc_auc_score(y_eval, nb_preds)\n",
    "\n",
    "    return nb_model, nb_preds, nb_f1_score, fpr, tpr, thresholds, nb_auc_score\n"
   ]
  },
  {
   "cell_type": "code",
   "execution_count": null,
   "id": "0bd61916",
   "metadata": {},
   "outputs": [],
   "source": [
    "nb_model, nb_preds, nb_f1_score, fpr, tpr, thresholds, nb_auc_score = naive_bayes_model(X_train_df, y_train, X_eval_df, y_eval)\n",
    "\n",
    "# Print the F1 score and AUC score\n",
    "print(\"F1 Score on Evaluation Set based on Naive Bayes:\", nb_f1_score)\n",
    "print(\"AUC Score on Evaluation Set based on Naive Bayes:\", nb_auc_score)\n"
   ]
  },
  {
   "cell_type": "code",
   "execution_count": null,
   "id": "bde4a2b0",
   "metadata": {},
   "outputs": [],
   "source": [
    "# Plot the ROC curve\n",
    "plt.figure()\n",
    "plt.plot(fpr, tpr, label='ROC curve (AUC = %0.2f)' % nb_auc_score)\n",
    "plt.plot([0, 1], [0, 1], 'k--')  # diagonal line\n",
    "plt.xlabel('False Positive Rate')\n",
    "plt.ylabel('True Positive Rate')\n",
    "plt.title('(ROC) Curve for Naive Bayes Model')\n",
    "plt.legend(loc='lower right')\n",
    "plt.show()"
   ]
  },
  {
   "cell_type": "code",
   "execution_count": null,
   "id": "bb787d68",
   "metadata": {},
   "outputs": [],
   "source": [
    "# Calculate F1 scores for training and evaluation sets\n",
    "nb_train_f1_score = calculate_f1_score(nb_model, X_train_df, y_train)\n",
    "nb_eval_f1_score = calculate_f1_score(nb_model, X_eval_df, y_eval)\n",
    "\n",
    "# Print the F1 scores\n",
    "print(\"F1 Score on Training Set based on XGboost:\", nb_train_f1_score)\n",
    "print(\"F1 Score on Evaluation Set based on XGboost:\", nb_eval_f1_score)\n"
   ]
  },
  {
   "cell_type": "code",
   "execution_count": null,
   "id": "f69cca86",
   "metadata": {},
   "outputs": [],
   "source": [
    "# Call the function with your Naive Bayes model and train data\n",
    "cv_scores, avg_f1_score = perform_cross_validation(nb_model, X_train_df, y_train, cv=5, scoring='f1')\n",
    "# Print the cross-validation scores and average F1 score\n",
    "print(\"Cross-Validation Scores based on Naive Bayes model:\", cv_scores)\n",
    "print(\"Average F1 Score based on Naive Bayes model:\", avg_f1_score)"
   ]
  },
  {
   "cell_type": "markdown",
   "id": "89566b5b",
   "metadata": {},
   "source": [
    "### Simple Model #006 - Stochastic Grad Descent "
   ]
  },
  {
   "cell_type": "code",
   "execution_count": null,
   "id": "34f9e7aa",
   "metadata": {},
   "outputs": [],
   "source": [
    "from sklearn.linear_model import SGDClassifier\n",
    "\n",
    "def sgd_model_func(X_train, y_train, X_eval, y_eval):\n",
    "    # Fit SGD model\n",
    "    sgd_model = SGDClassifier()\n",
    "    sgd_model.fit(X_train, y_train)\n",
    "\n",
    "    # Make predictions on the evaluation set\n",
    "    sgd_preds = sgd_model.predict(X_eval)\n",
    "\n",
    "    # Calculate F1 score\n",
    "    sgd_f1_score = f1_score(y_eval, sgd_preds)\n",
    "\n",
    "    # Calculate false positive rate, true positive rate, and thresholds using roc_curve\n",
    "    fpr, tpr, thresholds = roc_curve(y_eval, sgd_preds)\n",
    "\n",
    "    # Calculate AUC score\n",
    "    sgd_auc_score = roc_auc_score(y_eval, sgd_preds)\n",
    "\n",
    "    return sgd_model, sgd_preds, sgd_f1_score, fpr, tpr, thresholds, sgd_auc_score\n"
   ]
  },
  {
   "cell_type": "code",
   "execution_count": null,
   "id": "65951f3e",
   "metadata": {},
   "outputs": [],
   "source": [
    "sgd_model, sgd_preds, sgd_f1_score, fpr, tpr, thresholds, sgd_auc_score = sgd_model_func(X_train_df, y_train, X_eval_df, y_eval)\n",
    "\n",
    "# Print the F1 score and AUC score\n",
    "print(\"F1 Score on Evaluation Set based on SGD:\", sgd_f1_score)\n",
    "print(\"AUC Score on Evaluation Set based on SGD:\", sgd_auc_score)\n"
   ]
  },
  {
   "cell_type": "code",
   "execution_count": null,
   "id": "96619172",
   "metadata": {},
   "outputs": [],
   "source": [
    "# Plot the ROC curve\n",
    "plt.figure()\n",
    "plt.plot(fpr, tpr, label='ROC curve (AUC = %0.2f)' % sgd_auc_score)\n",
    "plt.plot([0, 1], [0, 1], 'k--')  # diagonal line\n",
    "plt.xlabel('False Positive Rate')\n",
    "plt.ylabel('True Positive Rate')\n",
    "plt.title('(ROC) Curve for SGDClassifier')\n",
    "plt.legend(loc='lower right')\n",
    "plt.show()"
   ]
  },
  {
   "cell_type": "code",
   "execution_count": null,
   "id": "3cf87df3",
   "metadata": {},
   "outputs": [],
   "source": [
    "sgd_train_f1_score = calculate_f1_score(sgd_model, X_train_df, y_train)\n",
    "sgd_eval_f1_score = calculate_f1_score(sgd_model, X_eval_df, y_eval)\n",
    "\n",
    "# Print the F1 scores\n",
    "print(\"F1 Score on Training Set based on SGDClassifier:\", sgd_train_f1_score)\n",
    "print(\"F1 Score on Evaluation Set based on SGDClassifier:\", sgd_eval_f1_score)\n"
   ]
  },
  {
   "cell_type": "code",
   "execution_count": null,
   "id": "a65dd3fa",
   "metadata": {},
   "outputs": [],
   "source": [
    "# Call the function with your Naive Bayes model and train data\n",
    "cv_scores, avg_f1_score = perform_cross_validation(sgd_model, X_train_df, y_train, cv=5, scoring='f1')\n",
    "# Print the cross-validation scores and average F1 score\n",
    "print(\"Cross-Validation Scores based on Naive Bayes model:\", cv_scores)\n",
    "print(\"Average F1 Score based on Naive Bayes model:\", avg_f1_score)"
   ]
  },
  {
   "cell_type": "code",
   "execution_count": null,
   "id": "ea59389a",
   "metadata": {},
   "outputs": [],
   "source": [
    "results_No_SMOTE= {'model':['Decision Tree','Random Forest','XGBoost','Logistic Regression','Naive Bayes','SGBoost'],\n",
    "         'f1_score':[dt_f1_score,rf_f1_score,xgb_f1_score,lr_f1_score,nb_f1_score,sgd_f1_score],\n",
    "         'AUC_score':[dt_auc_score,rf_auc_score,xgb_auc_score,lr_auc_score,nb_auc_score,sgd_auc_score]}\n",
    "\n",
    "results_No_SMOTE_df= pd.DataFrame(results_No_SMOTE)\n",
    "results_No_SMOTE_df_sorted = results_No_SMOTE_df.sort_values(by= 'AUC_score', ascending = False)\n",
    "results_No_SMOTE_df_sorted"
   ]
  },
  {
   "cell_type": "code",
   "execution_count": null,
   "id": "087c62c6",
   "metadata": {},
   "outputs": [],
   "source": [
    "# Create the bar plot using Seaborn\n",
    "plt.figure(figsize=(10, 6))\n",
    "sns.barplot(data=results_No_SMOTE_df_sorted, x='model', y='AUC_score', palette='viridis')\n",
    "\n",
    "# Add data labels\n",
    "for i, value in enumerate(results_No_SMOTE_df_sorted['AUC_score']):\n",
    "    plt.text(i, value, round(value, 2), ha='center', va='bottom')\n",
    "\n",
    "# Set other plot properties\n",
    "plt.xticks(rotation=45)\n",
    "plt.xlabel('Model')\n",
    "plt.ylabel('AUC Score')\n",
    "plt.title('Comparison of AUC Scores for Different Models')\n",
    "plt.tight_layout()\n",
    "plt.show()\n"
   ]
  },
  {
   "cell_type": "code",
   "execution_count": null,
   "id": "e8a4b4c1",
   "metadata": {
    "scrolled": false
   },
   "outputs": [],
   "source": [
    "import seaborn as sns\n",
    "from sklearn.feature_selection import RFE\n",
    "\n",
    "\n",
    "def get_feature_importance(model, X_train_df, y_train, num_features):\n",
    "    if isinstance(model, LogisticRegression):\n",
    "        # For logistic regression, use the coefficients as feature importance\n",
    "        importances = np.abs(model.coef_[0])\n",
    "    elif isinstance(model, GaussianNB):\n",
    "        # For Naive Bayes, use feature variances as importance\n",
    "        importances = np.var(X_train_df, axis=0)\n",
    "    else:\n",
    "        # For other models, use RFE for feature importance\n",
    "        rfe = RFE(model, n_features_to_select=num_features)\n",
    "        rfe.fit(X_train_df, y_train)\n",
    "        importances = rfe.support_\n",
    "    \n",
    "    return importances\n",
    "\n",
    "# Assuming you have the trained models available\n",
    "models = {\n",
    "    'Decision Tree': dt_model,\n",
    "    'Random Forest': rf_model,\n",
    "    'XGBoost': xgb_model,\n",
    "    'Logistic Regression': lr_model,\n",
    "    'Naive Bayes': nb_model,\n",
    "    'SGBoost': sgd_model\n",
    "}\n",
    "\n",
    "# Define the number of features you want to select\n",
    "num_features = 5\n",
    "\n",
    "# Iterate over each model and display feature importance\n",
    "for model_name, model in models.items():\n",
    "    importances = get_feature_importance(model, X_train_df, y_train, num_features)\n",
    "    features = df.columns\n",
    "\n",
    "    # Get the indices of the selected features\n",
    "    indices = np.where(importances)[0]\n",
    "\n",
    "    # Plotting feature importances using seaborn\n",
    "    plt.figure(figsize=(10, 6))\n",
    "    sns.barplot(x=importances[indices], y=features[indices])\n",
    "    plt.title(f'Feature Importance - {model_name}')\n",
    "    plt.xlabel('Importance')\n",
    "    plt.ylabel('Features')\n",
    "    plt.tight_layout()\n",
    "\n",
    "    # Add data labels to the bar plot\n",
    "    for i, v in enumerate(importances[indices]):\n",
    "        plt.text(v, i, f'{v:.2f}', color='black', ha='left', va='center')\n",
    "\n",
    "    plt.show()\n"
   ]
  },
  {
   "cell_type": "markdown",
   "id": "83434fb2",
   "metadata": {},
   "source": [
    "## Optional: Train Dataset Balancing "
   ]
  },
  {
   "cell_type": "code",
   "execution_count": null,
   "id": "65327c16",
   "metadata": {},
   "outputs": [],
   "source": [
    "# Use Over-sampling/Under-sampling methods, more details here: https://imbalanced-learn.org/stable/install.html\n",
    "oversample= SMOTE()\n",
    "X_train_resampled,y_train_resampled= oversample.fit_resample(X_train_df, y_train)\n",
    "X_train_resampled.shape,y_train_resampled.shape"
   ]
  },
  {
   "cell_type": "markdown",
   "id": "4ac1a23b",
   "metadata": {},
   "source": [
    "### Balanced Model #001"
   ]
  },
  {
   "cell_type": "code",
   "execution_count": null,
   "id": "60a05b07",
   "metadata": {},
   "outputs": [],
   "source": [
    "# Call the logistic_regression_model function passing the balanced training data and evaluation data\n",
    "lr_model_b, lr_preds_b, lr_f1_score_b, fpr_b, tpr_b, thresholds_b, lr_auc_score_b = logistic_regression_model(X_train_resampled, y_train_resampled, X_eval_df, y_eval)\n",
    "print(\"F1 Score:\", lr_f1_score_b)\n",
    "print(\"AUC Score:\", lr_auc_score_b)\n"
   ]
  },
  {
   "cell_type": "code",
   "execution_count": null,
   "id": "8fff6095",
   "metadata": {},
   "outputs": [],
   "source": [
    "# Plot the ROC curve\n",
    "plt.figure()\n",
    "plt.plot(fpr, tpr, label='ROC curve (AUC = %0.2f)' % lr_auc_score_b)\n",
    "plt.plot([0, 1], [0, 1], 'k--')  # diagonal line\n",
    "plt.xlabel('False Positive Rate')\n",
    "plt.ylabel('True Positive Rate')\n",
    "plt.title('(ROC) Curve for linear regression Classifier (Balanced Data)')\n",
    "plt.legend(loc='lower right')\n",
    "plt.show()"
   ]
  },
  {
   "cell_type": "code",
   "execution_count": null,
   "id": "71b0b5f1",
   "metadata": {},
   "outputs": [],
   "source": [
    "lr_train_f1_score_b = calculate_f1_score(lr_model_b, X_train_resampled, y_train_resampled)\n",
    "lr_eval_f1_score_b = calculate_f1_score(lr_model_b, X_eval_df, y_eval)\n",
    "\n",
    "# Print the F1 scores\n",
    "print(\"F1 Score on Training Set for Logistic regression with balanced data:\", lr_train_f1_score_b)\n",
    "print(\"F1 Score on Evaluation Set for Logistic regression with balanced data:\", lr_eval_f1_score_b)\n"
   ]
  },
  {
   "cell_type": "code",
   "execution_count": null,
   "id": "4b7bb5bf",
   "metadata": {},
   "outputs": [],
   "source": [
    "# Call the function with your Logistic Regression model and train data\n",
    "cv_scores, avg_f1_score = perform_cross_validation(lr_model_b, X_train_resampled, y_train_resampled, cv=5, scoring='f1')\n",
    "# Print the cross-validation scores and average F1 score\n",
    "print(\"Cross-Validation Scores for Logistic regression with balanced data:\", cv_scores)\n",
    "print(\"Average F1 Score based for Logistic regression with balanced data:\", avg_f1_score)"
   ]
  },
  {
   "cell_type": "markdown",
   "id": "8e68359f",
   "metadata": {},
   "source": [
    "### Balanced Model #002"
   ]
  },
  {
   "cell_type": "code",
   "execution_count": null,
   "id": "99002e80",
   "metadata": {},
   "outputs": [],
   "source": [
    "# Call the function with your train and evaluation data\n",
    "dt_model_b, dt_pred_b, dt_f1_score_b, dt_auc_score_b = evaluate_decision_tree(X_train_resampled, y_train_resampled, X_eval_df, y_eval)\n",
    "\n",
    "print(\"F1 Score:\", dt_f1_score_b)\n",
    "print(\"AUC Score:\", dt_auc_score_b)\n"
   ]
  },
  {
   "cell_type": "code",
   "execution_count": null,
   "id": "71f69378",
   "metadata": {
    "scrolled": false
   },
   "outputs": [],
   "source": [
    "# Plot the ROC curve\n",
    "plt.figure()\n",
    "plt.plot(fpr, tpr, label='ROC curve (AUC = %0.2f)' % dt_auc_score_b)\n",
    "plt.plot([0, 1], [0, 1], 'k--')  # diagonal line\n",
    "plt.xlabel('False Positive Rate')\n",
    "plt.ylabel('True Positive Rate')\n",
    "plt.title('(ROC) Curve for decision tree Classifier (Balanced Data)')\n",
    "plt.legend(loc='lower right')\n",
    "plt.show()"
   ]
  },
  {
   "cell_type": "code",
   "execution_count": null,
   "id": "1fc21662",
   "metadata": {},
   "outputs": [],
   "source": [
    "dt_train_f1_score_b = calculate_f1_score(dt_model_b, X_train_resampled, y_train_resampled)\n",
    "dt_eval_f1_score_b = calculate_f1_score(dt_model_b, X_eval_df, y_eval)\n",
    "\n",
    "# Print the F1 scores\n",
    "print(\"F1 Score on Training Set for decision tree with balanced data:\", dt_train_f1_score_b)\n",
    "print(\"F1 Score on Evaluation Set for decision tree with balanced data:\", dt_eval_f1_score_b)\n"
   ]
  },
  {
   "cell_type": "code",
   "execution_count": null,
   "id": "9169ff3b",
   "metadata": {},
   "outputs": [],
   "source": [
    "# Call the function with your Naive Bayes model and train data\n",
    "cv_scores, avg_f1_score = perform_cross_validation(dt_model_b, X_train_resampled, y_train_resampled, cv=5, scoring='f1')\n",
    "# Print the cross-validation scores and average F1 score\n",
    "print(\"Cross-Validation Scores for decision tree with balanced data:\", cv_scores)\n",
    "print(\"Average F1 Score for decision tree with balanced data:\", avg_f1_score)"
   ]
  },
  {
   "cell_type": "markdown",
   "id": "83d187e5",
   "metadata": {},
   "source": [
    "### Balanced Model #003 - Random Forest Classifier "
   ]
  },
  {
   "cell_type": "code",
   "execution_count": null,
   "id": "5c335c40",
   "metadata": {},
   "outputs": [],
   "source": [
    "rf_model_b, rf_preds_b, rf_f1_score_b, fpr_b, tpr_b, thresholds_b, rf_auc_score_b = random_forest_model(X_train_resampled, y_train_resampled, X_eval, y_eval)\n",
    "\n",
    "print(\"F1 Score for Random Forest with balanced data:\", rf_f1_score_b)\n",
    "print(\"AUC Score for Random Forest with balanced data:\", rf_auc_score_b)\n"
   ]
  },
  {
   "cell_type": "code",
   "execution_count": null,
   "id": "53ef3e20",
   "metadata": {},
   "outputs": [],
   "source": [
    "# Plot the ROC curve\n",
    "plt.figure()\n",
    "plt.plot(fpr, tpr, label='ROC curve (AUC = %0.2f)' % rf_auc_score_b)\n",
    "plt.plot([0, 1], [0, 1], 'k--')  # diagonal line\n",
    "plt.xlabel('False Positive Rate')\n",
    "plt.ylabel('True Positive Rate')\n",
    "plt.title('(ROC) Curve for Random Forest Classifier (Balanced Data)')\n",
    "plt.legend(loc='lower right')\n",
    "plt.show()"
   ]
  },
  {
   "cell_type": "code",
   "execution_count": null,
   "id": "57895f9b",
   "metadata": {},
   "outputs": [],
   "source": [
    "rf_train_f1_score_b = calculate_f1_score(rf_model_b, X_train_resampled, y_train_resampled)\n",
    "rf_eval_f1_score_b = calculate_f1_score(rf_model_b, X_eval_df, y_eval)\n",
    "\n",
    "# Print the F1 scores\n",
    "print(\"F1 Score on Training Set for Random forest with balanced data:\", rf_train_f1_score_b)\n",
    "print(\"F1 Score on Evaluation Set for Random forest with balanced data:\", rf_eval_f1_score_b)\n"
   ]
  },
  {
   "cell_type": "code",
   "execution_count": null,
   "id": "0c3f1df5",
   "metadata": {},
   "outputs": [],
   "source": [
    "# Call the function with your Naive Bayes model and train data\n",
    "cv_scores, avg_f1_score = perform_cross_validation(rf_model_b, X_train_resampled, y_train_resampled, cv=5, scoring='f1')\n",
    "# Print the cross-validation scores and average F1 score\n",
    "print(\"Cross-Validation Scores for Random forest with balanced data:\", cv_scores)\n",
    "print(\"Average F1 Score for Random forest with balanced data:\", avg_f1_score)"
   ]
  },
  {
   "cell_type": "markdown",
   "id": "95efdd5d",
   "metadata": {},
   "source": [
    "### Balanced Model #004"
   ]
  },
  {
   "cell_type": "code",
   "execution_count": null,
   "id": "c70e6a23",
   "metadata": {},
   "outputs": [],
   "source": [
    "xgb_model_b, xgb_preds_b, xgb_f1_score_b, fpr_b, tpr_b, thresholds_b, xgb_auc_score_b = xgboost_model(X_train_resampled, y_train_resampled, X_eval_df, y_eval)\n",
    "\n",
    "# Print the F1 score and AUC score\n",
    "print(\"F1 Score on Evaluation for XGBoost with balanced data:\", xgb_f1_score_b)\n",
    "print(\"AUC Score on Evaluation for XGBoost with balanced data:\", xgb_auc_score_b)\n"
   ]
  },
  {
   "cell_type": "code",
   "execution_count": null,
   "id": "7cd5b981",
   "metadata": {},
   "outputs": [],
   "source": [
    "# Plot the ROC curve\n",
    "plt.figure()\n",
    "plt.plot(fpr, tpr, label='ROC curve (AUC = %0.2f)' % xgb_auc_score_b)\n",
    "plt.plot([0, 1], [0, 1], 'k--')  # diagonal line\n",
    "plt.xlabel('False Positive Rate')\n",
    "plt.ylabel('True Positive Rate')\n",
    "plt.title('(ROC) Curve for XGBoost (Balanced Data)')\n",
    "plt.legend(loc='lower right')\n",
    "plt.show()"
   ]
  },
  {
   "cell_type": "code",
   "execution_count": null,
   "id": "6b43d383",
   "metadata": {},
   "outputs": [],
   "source": [
    "xgb_train_f1_score_b = calculate_f1_score(xgb_model_b, X_train_resampled, y_train_resampled)\n",
    "xgb_eval_f1_score_b = calculate_f1_score(xgb_model_b, X_eval_df, y_eval)\n",
    "\n",
    "# Print the F1 scores\n",
    "print(\"F1 Score on Training Set for XGBoost with balanced data:\", xgb_train_f1_score_b)\n",
    "print(\"F1 Score on Evaluation Set for XGBoost with balanced data:\", xgb_eval_f1_score_b)\n"
   ]
  },
  {
   "cell_type": "code",
   "execution_count": null,
   "id": "0d1581f8",
   "metadata": {},
   "outputs": [],
   "source": [
    "# Call the function with your Naive Bayes model and train data\n",
    "cv_scores, avg_f1_score = perform_cross_validation(xgb_model_b, X_train_resampled, y_train_resampled, cv=5, scoring='f1')\n",
    "# Print the cross-validation scores and average F1 score\n",
    "print(\"Cross-Validation Scores for Random forest with balanced data:\", cv_scores)\n",
    "print(\"Average F1 Score for Random forest with balanced data:\", avg_f1_score)"
   ]
  },
  {
   "cell_type": "markdown",
   "id": "aa57205f",
   "metadata": {},
   "source": [
    "### Balanced Model #005 - Naive Bayes"
   ]
  },
  {
   "cell_type": "code",
   "execution_count": null,
   "id": "1a3ff629",
   "metadata": {},
   "outputs": [],
   "source": [
    "nb_model_b, nb_preds_b, nb_f1_score_b, fpr_b, tpr_b, thresholds_b, nb_auc_score_b = naive_bayes_model(X_train_resampled, y_train_resampled, X_eval_df, y_eval)\n",
    "\n",
    "# Print the F1 score and AUC score\n",
    "print(\"F1 Score on Evaluation Set based for Naive Bayes with balanced data:\", nb_f1_score_b)\n",
    "print(\"AUC Score on Evaluation Set based for Naive Bayes with balanced data:\", nb_auc_score_b)\n"
   ]
  },
  {
   "cell_type": "code",
   "execution_count": null,
   "id": "80e17aa6",
   "metadata": {},
   "outputs": [],
   "source": [
    "# Plot the ROC curve\n",
    "plt.figure()\n",
    "plt.plot(fpr, tpr, label='ROC curve (AUC = %0.2f)' % nb_auc_score_b)\n",
    "plt.plot([0, 1], [0, 1], 'k--')  # diagonal line\n",
    "plt.xlabel('False Positive Rate')\n",
    "plt.ylabel('True Positive Rate')\n",
    "plt.title('(ROC) Curve for Naive Bayes (Balanced Data)')\n",
    "plt.legend(loc='lower right')\n",
    "plt.show()"
   ]
  },
  {
   "cell_type": "code",
   "execution_count": null,
   "id": "f74a26c2",
   "metadata": {},
   "outputs": [],
   "source": [
    "nb_train_f1_score_b = calculate_f1_score(nb_model_b, X_train_resampled, y_train_resampled)\n",
    "nb_eval_f1_score_b = calculate_f1_score(nb_model_b, X_eval_df, y_eval)\n",
    "\n",
    "# Print the F1 scores\n",
    "print(\"F1 Score on Training Set for Naive Bayes with balanced data:\", nb_train_f1_score_b)\n",
    "print(\"F1 Score on Evaluation Set for Naive Bayes with balanced data:\", nb_eval_f1_score_b)\n"
   ]
  },
  {
   "cell_type": "code",
   "execution_count": null,
   "id": "18a0189a",
   "metadata": {},
   "outputs": [],
   "source": [
    "# Call the function with your Naive Bayes model and train data\n",
    "cv_scores, avg_f1_score = perform_cross_validation(nb_model_b, X_train_resampled, y_train_resampled, cv=5, scoring='f1')\n",
    "# Print the cross-validation scores and average F1 score\n",
    "print(\"Cross-Validation Scores for Random forest with balanced data:\", cv_scores)\n",
    "print(\"Average F1 Score for Random forest with balanced data:\", avg_f1_score)"
   ]
  },
  {
   "cell_type": "markdown",
   "id": "a5fc1459",
   "metadata": {},
   "source": [
    "### Balanced Model #006 - Stochastic Gradient Decent "
   ]
  },
  {
   "cell_type": "code",
   "execution_count": null,
   "id": "83cc6280",
   "metadata": {},
   "outputs": [],
   "source": [
    "sgd_model_b, sgd_preds_b, sgd_f1_score_b, fpr_b, tpr_b, thresholds_b, sgd_auc_score_b = sgd_model_func(X_train_resampled, y_train_resampled, X_eval_df, y_eval)\n",
    "\n",
    "# Print the F1 score and AUC score\n",
    "print(\"F1 Score on Evaluation Set for SGD with balanced data:\", sgd_f1_score_b)\n",
    "print(\"AUC Score on Evaluation Set for SGD with balanced data:\", sgd_auc_score_b)\n"
   ]
  },
  {
   "cell_type": "code",
   "execution_count": null,
   "id": "faa2d9d7",
   "metadata": {},
   "outputs": [],
   "source": [
    "# Plot the ROC curve\n",
    "plt.figure()\n",
    "plt.plot(fpr, tpr, label='ROC curve (AUC = %0.2f)' % sgd_auc_score_b)\n",
    "plt.plot([0, 1], [0, 1], 'k--')  # diagonal line\n",
    "plt.xlabel('False Positive Rate')\n",
    "plt.ylabel('True Positive Rate')\n",
    "plt.title('(ROC) Curve for SGD (Balanced Data)')\n",
    "plt.legend(loc='lower right')\n",
    "plt.show()"
   ]
  },
  {
   "cell_type": "code",
   "execution_count": null,
   "id": "bff15664",
   "metadata": {},
   "outputs": [],
   "source": [
    "sgd_train_f1_score_b = calculate_f1_score(sgd_model_b, X_train_resampled, y_train_resampled)\n",
    "sgd_eval_f1_score_b = calculate_f1_score(sgd_model_b, X_eval_df, y_eval)\n",
    "\n",
    "# Print the F1 scores\n",
    "print(\"F1 Score on Training Set for SGD with balanced data:\", sgd_train_f1_score_b)\n",
    "print(\"F1 Score on Evaluation Set for SGD with balanced data:\", sgd_eval_f1_score_b)\n"
   ]
  },
  {
   "cell_type": "code",
   "execution_count": null,
   "id": "014c6602",
   "metadata": {},
   "outputs": [],
   "source": [
    "# Call the function with your Naive Bayes model and train data\n",
    "cv_scores, avg_f1_score = perform_cross_validation(sgd_model_b, X_train_resampled, y_train_resampled, cv=5, scoring='f1')\n",
    "# Print the cross-validation scores and average F1 score\n",
    "print(\"Cross-Validation Scores for SGD with balanced data:\", cv_scores)\n",
    "print(\"Average F1 Score for SGD with balanced data:\", avg_f1_score)"
   ]
  },
  {
   "cell_type": "markdown",
   "id": "8d11e80f",
   "metadata": {},
   "source": [
    "## Models comparison\n",
    "Create a pandas dataframe that will allow you to compare your models.\n",
    "\n",
    "Find a sample frame below :\n",
    "\n",
    "|     | Model_Name     | Metric (metric_name)    | Details  |\n",
    "|:---:|:--------------:|:--------------:|:-----------------:|\n",
    "| 0   |  -             |  -             | -                 |\n",
    "| 1   |  -             |  -             | -                 |\n",
    "\n",
    "\n",
    "You might use the pandas dataframe method `.sort_values()` to sort the dataframe regarding the metric.\n"
   ]
  },
  {
   "cell_type": "code",
   "execution_count": null,
   "id": "2266a714",
   "metadata": {},
   "outputs": [],
   "source": [
    "results= {'model':['Decision Tree','Random Forest','XGBoost','Logistic Regression','Naive Bayes','SGBoost',\n",
    "                  'Decision Tree_SMOTE','Random Forest_SMOTE','XGBoost_SMOTE','Logistic Regression_SMOTE','Naive Bayes_SMOTE', 'SGBoost_SMOTE'],\n",
    "         'f1_score':[dt_f1_score,rf_f1_score,xgb_f1_score,lr_f1_score,nb_f1_score,sgd_f1_score,\n",
    "                    dt_f1_score_b,rf_f1_score_b,xgb_f1_score_b,lr_f1_score_b,nb_f1_score_b,sgd_f1_score_b],\n",
    "         'AUC_score':[dt_auc_score,rf_auc_score,xgb_auc_score,lr_auc_score,nb_auc_score,sgd_auc_score,\n",
    "                     dt_auc_score_b,rf_auc_score_b,xgb_auc_score_b,lr_auc_score_b,nb_auc_score_b, sgd_auc_score_b]}\n",
    "\n",
    "results_df= pd.DataFrame(results)"
   ]
  },
  {
   "cell_type": "code",
   "execution_count": null,
   "id": "8fd3a45c",
   "metadata": {},
   "outputs": [],
   "source": [
    "results_df.sort_values(by= 'AUC_score', ascending = False)"
   ]
  },
  {
   "cell_type": "code",
   "execution_count": null,
   "id": "88cd83bb",
   "metadata": {},
   "outputs": [],
   "source": [
    "# Filter models with and without SMOTE\n",
    "models_with_smote = ['Decision Tree_SMOTE', 'Random Forest_SMOTE', 'XGBoost_SMOTE', 'Logistic Regression_SMOTE', 'Naive Bayes_SMOTE', 'SGBoost_SMOTE']\n",
    "models_without_smote = ['Decision Tree', 'Random Forest', 'XGBoost', 'Logistic Regression', 'Naive Bayes', 'SGBoost']\n",
    "\n",
    "# Create separate DataFrames for each comparison\n",
    "f1_scores_comparison = results_df[results_df['model'].isin(models_without_smote + models_with_smote)][['model', 'f1_score']]\n",
    "auc_scores_comparison = results_df[results_df['model'].isin(models_without_smote + models_with_smote)][['model', 'AUC_score']]\n",
    "\n",
    "# Convert model categories to SMOTE and Non-SMOTE\n",
    "f1_scores_comparison['model_category'] = f1_scores_comparison['model'].apply(lambda x: 'SMOTE' if 'SMOTE' in x else 'Non-SMOTE')\n",
    "auc_scores_comparison['model_category'] = auc_scores_comparison['model'].apply(lambda x: 'SMOTE' if 'SMOTE' in x else 'Non-SMOTE')\n",
    "\n",
    "# Plotting using Seaborn\n",
    "plt.figure(figsize=(10, 6))\n",
    "plt.subplot(1, 2, 1)\n",
    "sns.barplot(x='f1_score', y='model', data=f1_scores_comparison, hue='model_category')\n",
    "plt.xlabel('F1 Score')\n",
    "plt.ylabel('Model')\n",
    "plt.title('F1 Score Comparison')\n",
    "\n",
    "# Add data labels to the bar plot\n",
    "for i, (value, name) in enumerate(zip(f1_scores_comparison['f1_score'], f1_scores_comparison['model'])):\n",
    "    plt.text(value, i, f'{value:.2f}', ha='left', va='center')\n",
    "\n",
    "plt.subplot(1, 2, 2)\n",
    "sns.barplot(x='AUC_score', y='model', data=auc_scores_comparison, hue='model_category')\n",
    "plt.xlabel('AUC Score')\n",
    "plt.ylabel('Model')\n",
    "plt.title('AUC Score Comparison')\n",
    "\n",
    "# Add data labels to the bar plot\n",
    "for i, (value, name) in enumerate(zip(auc_scores_comparison['AUC_score'], auc_scores_comparison['model'])):\n",
    "    plt.text(value, i, f'{value:.2f}', ha='left', va='center')\n",
    "\n",
    "plt.tight_layout()\n",
    "plt.show()\n"
   ]
  },
  {
   "cell_type": "markdown",
   "id": "6ddc7b30",
   "metadata": {},
   "source": [
    "## Hyperparameters tuning \n",
    "\n",
    "Fine-tune the Top-k models (3 < k < 5) using a ` GridSearchCV`  (that is in sklearn.model_selection\n",
    ") to find the best hyperparameters and achieve the maximum performance of each of the Top-k models, then compare them again to select the best one."
   ]
  },
  {
   "cell_type": "markdown",
   "id": "2b2bcaf6",
   "metadata": {},
   "source": [
    "##### MODEL 1 - Logistic Regression Model"
   ]
  },
  {
   "cell_type": "code",
   "execution_count": null,
   "id": "368dab2f",
   "metadata": {},
   "outputs": [],
   "source": [
    "from sklearn.model_selection import GridSearchCV\n",
    "from sklearn.linear_model import LogisticRegression\n",
    "from sklearn.metrics import make_scorer, f1_score, roc_auc_score\n",
    "\n",
    "def perform_lr_grid_search(X_train, y_train):\n",
    "    # Define the hyperparameters grid\n",
    "    param_grid = {\n",
    "        'C': [10, 30, 50, 70, 80, 100],  # Inverse of regularization strength\n",
    "        'penalty': ['l1', 'l2'],  # Regularization penalty\n",
    "        'solver': ['liblinear', 'saga'],  # Solver algorithm for optimization\n",
    "        'max_iter': [10, 20, 30, 40, 50]  # Maximum number of iterations\n",
    "    }\n",
    "\n",
    "    # Define scoring metrics\n",
    "    scoring = {\n",
    "        'F1': make_scorer(f1_score),\n",
    "        'ROC AUC': make_scorer(roc_auc_score)\n",
    "    }\n",
    "\n",
    "    # Perform grid search to find the best hyperparameters\n",
    "    Lr_model = LogisticRegression()\n",
    "    Lr_grid_search = GridSearchCV(Lr_model, param_grid, scoring=scoring, cv=5, refit='F1')\n",
    "    Lr_grid_search.fit(X_train, y_train)\n",
    "\n",
    "    # Create a dictionary to store the results\n",
    "    results = {\n",
    "        'best_params': Lr_grid_search.best_params_,\n",
    "        'best_estimator': Lr_grid_search.best_estimator_,\n",
    "        'best_f1_score': Lr_grid_search.best_score_,\n",
    "        'best_roc_auc_score': Lr_grid_search.best_score_\n",
    "    }\n",
    "\n",
    "    # Return the results\n",
    "    return results"
   ]
  },
  {
   "cell_type": "code",
   "execution_count": null,
   "id": "cf2e83ea",
   "metadata": {},
   "outputs": [],
   "source": [
    "# Call the function and store the results\n",
    "lr_results = perform_lr_grid_search(X_train_df, y_train)\n",
    "\n",
    "# Access the desired parameters from the results dictionary\n",
    "best_params_h = lr_results['best_params']\n",
    "best_estimator_h = lr_results['best_estimator']\n",
    "best_f1_score_h = lr_results['best_f1_score']\n",
    "best_roc_auc_score_h = lr_results['best_roc_auc_score']\n",
    "\n",
    "# Print the desired parameters\n",
    "print(\"Best hyperparameters: \", best_params_h)\n",
    "print('Best estimator: ', best_estimator_h)\n",
    "print(\"Best F1 score: \", best_f1_score_h)\n",
    "print(\"Best ROC AUC score: \", best_roc_auc_score_h)\n"
   ]
  },
  {
   "cell_type": "code",
   "execution_count": null,
   "id": "32696e8b",
   "metadata": {},
   "outputs": [],
   "source": [
    "# Perform the grid search\n",
    "lr_results_h_b = perform_lr_grid_search(X_train_resampled, y_train_resampled)\n",
    "\n",
    "# Access the desired parameters from the results dictionary\n",
    "best_params_h_b = lr_results_h_b['best_params']\n",
    "best_estimator_h_b = lr_results_h_b['best_estimator']\n",
    "best_f1_score_h_b = lr_results_h_b['best_f1_score']\n",
    "best_roc_auc_score_h_b = lr_results_h_b['best_roc_auc_score']\n",
    "\n",
    "# Print the desired parameters\n",
    "print(\"Best hyperparameters: \", best_params_h_b)\n",
    "print('Best estimator: ', best_estimator_h_b)\n",
    "print(\"Best F1 score: \", best_f1_score_h_b)\n",
    "print(\"Best ROC AUC score: \", best_roc_auc_score_h_b)\n"
   ]
  },
  {
   "cell_type": "code",
   "execution_count": null,
   "id": "070a1e47",
   "metadata": {},
   "outputs": [],
   "source": [
    "from sklearn.model_selection import GridSearchCV\n",
    "from sklearn.tree import DecisionTreeClassifier\n",
    "from sklearn.metrics import make_scorer, f1_score, roc_auc_score\n",
    "\n",
    "def perform_dt_grid_search(X_train, y_train):\n",
    "    # Define the hyperparameters grid\n",
    "    param_grid = {\n",
    "        'max_depth': [None, 5, 10, 15],  # Maximum depth of the tree\n",
    "        'min_samples_split': [2, 5, 10],  # Minimum number of samples required to split an internal node\n",
    "        'min_samples_leaf': [1, 2, 5],  # Minimum number of samples required to be at a leaf node\n",
    "        'max_features': ['auto', 'sqrt', 'log2']  # Number of features to consider when looking for the best split\n",
    "    }\n",
    "\n",
    "    # Define scoring metrics\n",
    "    scoring = {\n",
    "        'F1': make_scorer(f1_score),\n",
    "        'ROC AUC': make_scorer(roc_auc_score)\n",
    "    }\n",
    "\n",
    "    # Perform grid search to find the best hyperparameters\n",
    "    dt_model = DecisionTreeClassifier()\n",
    "    dt_grid_search = GridSearchCV(dt_model, param_grid, scoring=scoring, cv=5, refit='F1')\n",
    "    dt_grid_search.fit(X_train, y_train)\n",
    "\n",
    "    # Create a dictionary to store the results\n",
    "    results = {\n",
    "        'best_params': dt_grid_search.best_params_,\n",
    "        'best_estimator': dt_grid_search.best_estimator_,\n",
    "        'best_f1_score': dt_grid_search.best_score_,\n",
    "        'best_roc_auc_score': dt_grid_search.best_score_\n",
    "    }\n",
    "\n",
    "    # Return the results\n",
    "    return results"
   ]
  },
  {
   "cell_type": "code",
   "execution_count": null,
   "id": "d4ccf0d0",
   "metadata": {},
   "outputs": [],
   "source": [
    "# Call the function and store the results\n",
    "dt_results_h = perform_dt_grid_search(X_train_df, y_train)\n",
    "\n",
    "# Access the desired parameters from the results dictionary\n",
    "best_params_h = dt_results_h['best_params']\n",
    "best_estimator_h = dt_results_h['best_estimator']\n",
    "best_f1_score_h = dt_results_h['best_f1_score']\n",
    "best_roc_auc_score_h = dt_results_h['best_roc_auc_score']\n",
    "\n",
    "# Print the desired parameters\n",
    "print(\"Best hyperparameters: \", best_params_h)\n",
    "print('Best estimator: ', best_estimator_h)\n",
    "print(\"Best F1 score: \", best_f1_score_h)\n",
    "print(\"Best ROC AUC score: \", best_roc_auc_score_h)\n"
   ]
  },
  {
   "cell_type": "code",
   "execution_count": null,
   "id": "05c8e7af",
   "metadata": {},
   "outputs": [],
   "source": [
    "# Call the function and store the results\n",
    "dt_results_h_b = perform_dt_grid_search(X_train_resampled, y_train_resampled)\n",
    "\n",
    "# Access the desired parameters from the results dictionary\n",
    "best_params_h_b = dt_results_h_b['best_params']\n",
    "best_estimator_h_b = dt_results_h_b['best_estimator']\n",
    "best_f1_score_h_b = dt_results_h_b['best_f1_score']\n",
    "best_roc_auc_score_h_b = dt_results_h_b['best_roc_auc_score']\n",
    "\n",
    "# Print the desired parameters\n",
    "print(\"Best hyperparameters: \", best_params_h_b)\n",
    "print('Best estimator: ', best_estimator_h_b)\n",
    "print(\"Best F1 score: \", best_f1_score_h_b)\n",
    "print(\"Best ROC AUC score: \", best_roc_auc_score_h_b)"
   ]
  },
  {
   "cell_type": "code",
   "execution_count": null,
   "id": "b5507ebf",
   "metadata": {},
   "outputs": [],
   "source": [
    "from sklearn.model_selection import GridSearchCV\n",
    "from xgboost import XGBClassifier\n",
    "from sklearn.metrics import make_scorer, f1_score, roc_auc_score\n",
    "\n",
    "def perform_xgb_grid_search(X_train, y_train):\n",
    "    # Define the hyperparameters grid\n",
    "    param_grid = {\n",
    "        'max_depth': [3, 5, 7],  # Maximum depth of the tree\n",
    "        'learning_rate': [0.1, 0.01, 0.001],  # Learning rate\n",
    "        'n_estimators': [100, 200, 300],  # Number of trees (estimators)\n",
    "        'subsample': [0.8, 1.0],  # Subsample ratio of the training instances\n",
    "        'colsample_bytree': [0.8, 1.0]  # Subsample ratio of columns when constructing each tree\n",
    "    }\n",
    "\n",
    "    # Define scoring metrics\n",
    "    scoring = {\n",
    "        'F1': make_scorer(f1_score),\n",
    "        'ROC AUC': make_scorer(roc_auc_score)\n",
    "    }\n",
    "\n",
    "    # Perform grid search to find the best hyperparameters\n",
    "    xgb_model = XGBClassifier()\n",
    "    xgb_grid_search = GridSearchCV(xgb_model, param_grid, scoring=scoring, cv=5, refit='F1')\n",
    "    xgb_grid_search.fit(X_train, y_train)\n",
    "\n",
    "    # Create a dictionary to store the results\n",
    "    results = {\n",
    "        'best_params': xgb_grid_search.best_params_,\n",
    "        'best_estimator': xgb_grid_search.best_estimator_,\n",
    "        'best_f1_score': xgb_grid_search.best_score_,\n",
    "        'best_roc_auc_score': xgb_grid_search.best_score_\n",
    "    }\n",
    "\n",
    "    # Return the results\n",
    "    return results\n",
    "\n",
    "\n"
   ]
  },
  {
   "cell_type": "code",
   "execution_count": null,
   "id": "b8440f2a",
   "metadata": {},
   "outputs": [],
   "source": [
    "# Call the function and store the results\n",
    "xgb_results_h = perform_xgb_grid_search(X_train_df, y_train)\n",
    "\n",
    "# Access the desired parameters from the results dictionary\n",
    "best_params_h = xgb_results_h['best_params']\n",
    "best_estimator_h = xgb_results_h['best_estimator']\n",
    "best_f1_score_h = xgb_results_h['best_f1_score']\n",
    "best_roc_auc_score_h = xgb_results_h['best_roc_auc_score']\n",
    "\n",
    "# Print the desired parameters\n",
    "print(\"Best hyperparameters: \", best_params_h)\n",
    "print('Best estimator: ', best_estimator_h)\n",
    "print(\"Best F1 score: \", best_f1_score_h)\n",
    "print(\"Best ROC AUC score: \", best_roc_auc_score_h)\n"
   ]
  },
  {
   "cell_type": "code",
   "execution_count": null,
   "id": "a5f877b8",
   "metadata": {},
   "outputs": [],
   "source": [
    "# Call the function and store the results\n",
    "xgb_results_h_b = perform_xgb_grid_search(X_train_resampled, y_train_resampled)\n",
    "\n",
    "# Access the desired parameters from the results dictionary\n",
    "best_params_h_b = xgb_results_h_b['best_params']\n",
    "best_estimator_h_b = xgb_results_h_b['best_estimator']\n",
    "best_f1_score_h_b = xgb_results_h_b['best_f1_score']\n",
    "best_roc_auc_score_h_b = xgb_results_h_b['best_roc_auc_score']\n",
    "\n",
    "# Print the desired parameters\n",
    "print(\"Best hyperparameters: \", best_params_h_b)\n",
    "print('Best estimator: ', best_estimator_h_b)\n",
    "print(\"Best F1 score: \", best_f1_score_h_b)\n",
    "print(\"Best ROC AUC score: \", best_roc_auc_score_h_b)\n"
   ]
  },
  {
   "cell_type": "code",
   "execution_count": null,
   "id": "b93c1b8e",
   "metadata": {},
   "outputs": [],
   "source": [
    "import seaborn as sns\n",
    "import matplotlib.pyplot as plt\n",
    "from sklearn.linear_model import LogisticRegression\n",
    "from sklearn.metrics import f1_score, roc_curve, roc_auc_score, confusion_matrix\n",
    "\n",
    "\n",
    "# Calculate confusion matrix\n",
    "cm = confusion_matrix(y_eval, lr_preds)\n",
    "\n",
    "# Create a heatmap of the confusion matrix\n",
    "plt.figure(figsize=(8, 6))\n",
    "sns.heatmap(cm, annot=True, fmt='d', cmap='Blues', cbar=False)\n",
    "plt.xlabel('Predicted')\n",
    "plt.ylabel('True')\n",
    "plt.title('Confusion Matrix')\n",
    "plt.show()\n"
   ]
  },
  {
   "cell_type": "markdown",
   "id": "40774020",
   "metadata": {},
   "source": [
    "### Predictions on the test data"
   ]
  },
  {
   "cell_type": "code",
   "execution_count": null,
   "id": "879a5952",
   "metadata": {},
   "outputs": [],
   "source": [
    "# Make predictions on the test data\n",
    "lr_test_preds = lr_model.predict(X_test)\n",
    "\n",
    "# Print the predictions\n",
    "print(lr_test_preds)"
   ]
  },
  {
   "cell_type": "markdown",
   "id": "ddaf522c",
   "metadata": {},
   "source": [
    "#### MODEL EXPLAINABILITY "
   ]
  },
  {
   "cell_type": "code",
   "execution_count": null,
   "id": "1f8bfe97",
   "metadata": {},
   "outputs": [],
   "source": [
    "import shap\n",
    "\n",
    "# Create a Shap explainer object\n",
    "explainer = shap.Explainer(lr_model, X_train)\n",
    "\n",
    "# Calculate Shapely values\n",
    "shap_values = explainer(X_eval_df)\n"
   ]
  },
  {
   "cell_type": "code",
   "execution_count": null,
   "id": "e063fc9f",
   "metadata": {},
   "outputs": [],
   "source": [
    "# Create an Explanation object from Shapely values\n",
    "shap_explanation = shap.Explanation(values=shap_values, base_values=explainer.expected_value, data=X_eval_df)\n",
    "\n",
    "# Force plot for a specific instance\n",
    "shap.force_plot(shap_explanation.base_values, shap_explanation.values[0], X_eval_df.iloc[0])\n",
    "\n",
    "# Other plots using the Explanation object\n",
    "shap.summary_plot(shap_explanation, X_eval_df)\n"
   ]
  },
  {
   "cell_type": "markdown",
   "id": "56b0a117",
   "metadata": {},
   "source": [
    "#### OUTLIER ANALYSIS"
   ]
  },
  {
   "cell_type": "code",
   "execution_count": null,
   "id": "56677f1c",
   "metadata": {},
   "outputs": [],
   "source": []
  },
  {
   "cell_type": "code",
   "execution_count": null,
   "id": "1f3bd403",
   "metadata": {},
   "outputs": [],
   "source": []
  },
  {
   "cell_type": "code",
   "execution_count": null,
   "id": "18b7e649",
   "metadata": {},
   "outputs": [],
   "source": []
  },
  {
   "cell_type": "code",
   "execution_count": null,
   "id": "b443d6ba",
   "metadata": {},
   "outputs": [],
   "source": []
  },
  {
   "cell_type": "markdown",
   "id": "e336496d",
   "metadata": {},
   "source": [
    "# Export key components\n",
    "Here is the section to **export** the important ML objects that will be use to develop an app: *Encoder, Scaler, ColumnTransformer, Model, Pipeline, etc*."
   ]
  },
  {
   "cell_type": "code",
   "execution_count": null,
   "id": "914c3671",
   "metadata": {},
   "outputs": [],
   "source": [
    "import os\n",
    "from joblib import dump\n",
    "\n",
    "# Get the current working directory\n",
    "cwd = os.getcwd()\n",
    "\n",
    "# Specify the relative path to the destination directory\n",
    "destination = os.path.join(cwd, \"Assets\")\n",
    "\n",
    "# Create the \"export\" directory if it doesn't exist\n",
    "os.makedirs(destination, exist_ok=True)\n",
    "\n",
    "# Export the numerical imputer\n",
    "imputer_filepath = os.path.join(destination, \"numerical_imputer.joblib\")\n",
    "dump(numerical_imputer, imputer_filepath)\n",
    "\n",
    "# Export the scaler\n",
    "scaler_filepath = os.path.join(destination, \"scaler.joblib\")\n",
    "dump(scaler, scaler_filepath)\n",
    "\n",
    "# Export the logistic regression model\n",
    "model_filepath = os.path.join(destination, \"lr_model.joblib\")\n",
    "dump(lr_model, model_filepath)\n",
    "\n",
    "# Print the paths to the exported components\n",
    "print(f\"Numerical Imputer exported to: {imputer_filepath}\")\n",
    "print(f\"Scaler exported to: {scaler_filepath}\")\n",
    "print(f\"Logistic Regression Model exported to: {model_filepath}\")\n"
   ]
  },
  {
   "cell_type": "code",
   "execution_count": null,
   "id": "d37908d9",
   "metadata": {},
   "outputs": [],
   "source": [
    "!pip list --format=freeze >Assets/requirements.txt"
   ]
  }
 ],
 "metadata": {
  "kernelspec": {
   "display_name": "Python 3 (ipykernel)",
   "language": "python",
   "name": "python3"
  },
  "language_info": {
   "codemirror_mode": {
    "name": "ipython",
    "version": 3
   },
   "file_extension": ".py",
   "mimetype": "text/x-python",
   "name": "python",
   "nbconvert_exporter": "python",
   "pygments_lexer": "ipython3",
   "version": "3.9.12"
  }
 },
 "nbformat": 4,
 "nbformat_minor": 5
}
